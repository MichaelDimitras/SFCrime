{
 "cells": [
  {
   "cell_type": "code",
   "execution_count": 2,
   "metadata": {
    "collapsed": false
   },
   "outputs": [],
   "source": [
    "import pandas as pd\n",
    "import numpy as np\n",
    "import sklearn\n",
    "import zipfile\n",
    "import time\n",
    "import datetime\n",
    "from sklearn import ensemble"
   ]
  },
  {
   "cell_type": "code",
   "execution_count": 3,
   "metadata": {
    "collapsed": false
   },
   "outputs": [],
   "source": [
    "z = zipfile.ZipFile('train.csv.zip')\n",
    "data = pd.read_csv(z.open('train.csv'))\n",
    "data = data.drop(['Descript', 'Resolution', 'Address'], axis=1)\n",
    "\n",
    "z = zipfile.ZipFile('test.csv.zip')\n",
    "test = pd.read_csv(z.open('test.csv'))\n",
    "test = test.drop('Address', axis=1)"
   ]
  },
  {
   "cell_type": "code",
   "execution_count": 4,
   "metadata": {
    "collapsed": true
   },
   "outputs": [],
   "source": [
    "#Converts a formatted date/time string to a datetime object\n",
    "#Adjust the formatting parameters to fit the input string\n",
    "\n",
    "def strToDatetime(x):\n",
    "    x = time.strptime(x, '%Y-%m-%d %X')\n",
    "    x = datetime.datetime.fromtimestamp(time.mktime(x))  \n",
    "    return x"
   ]
  },
  {
   "cell_type": "code",
   "execution_count": 5,
   "metadata": {
    "collapsed": true
   },
   "outputs": [],
   "source": [
    "#Convert the string date/time field to individual features\n",
    "\n",
    "X = [d for d in data.Dates]\n",
    "X = [strToDatetime(d) for d in X]\n",
    "\n",
    "data[\"Month\"]  = [d.month for d in X]\n",
    "data[\"Day\"] = [d.day for d in X]\n",
    "data[\"Time\"] = [d.time().hour*60 + d.time().minute for d in X]\n",
    "data[\"Year\"] = [d.year for d in X]\n",
    "\n",
    "X = [d for d in test.Dates]\n",
    "X = [strToDatetime(d) for d in X]\n",
    "\n",
    "test[\"Month\"]  = [d.month for d in X]\n",
    "test[\"Day\"] = [d.day for d in X]\n",
    "test[\"Time\"] = [d.time().hour*60 + d.time().minute for d in X]\n",
    "test[\"Year\"] = [d.year for d in X]"
   ]
  },
  {
   "cell_type": "code",
   "execution_count": 6,
   "metadata": {
    "collapsed": true
   },
   "outputs": [],
   "source": [
    "#Encode the categorical features\n",
    "\n",
    "days = pd.get_dummies(data['DayOfWeek'])\n",
    "neighborhoods = pd.get_dummies(data['PdDistrict'], prefix = 'Dist')\n",
    "data = data.drop(['Dates','DayOfWeek', 'PdDistrict'], axis = 1)\n",
    "data = data.join([neighborhoods, days])\n",
    "\n",
    "days = pd.get_dummies(test['DayOfWeek'])\n",
    "neighborhoods = pd.get_dummies(test['PdDistrict'], prefix = 'Dist')\n",
    "test = test.drop(['Dates','DayOfWeek', 'PdDistrict'], axis = 1)\n",
    "test = test.join([neighborhoods, days])"
   ]
  },
  {
   "cell_type": "code",
   "execution_count": 8,
   "metadata": {
    "collapsed": false
   },
   "outputs": [
    {
     "data": {
      "text/plain": [
       "RandomForestClassifier(bootstrap=True, class_weight=None, criterion='gini',\n",
       "            max_depth=None, max_features='auto', max_leaf_nodes=None,\n",
       "            min_samples_leaf=1, min_samples_split=2,\n",
       "            min_weight_fraction_leaf=0.0, n_estimators=10, n_jobs=1,\n",
       "            oob_score=False, random_state=None, verbose=0,\n",
       "            warm_start=False)"
      ]
     },
     "execution_count": 8,
     "metadata": {},
     "output_type": "execute_result"
    }
   ],
   "source": [
    "#Try a simple random fores on the data\n",
    "\n",
    "clf = sklearn.ensemble.RandomForestClassifier()\n",
    "clf.fit(data.drop(\"Category\", axis =1), data.Category)\n",
    "pred = clf.predict(test.drop(\"Id\", axis = 1))"
   ]
  },
  {
   "cell_type": "code",
   "execution_count": 15,
   "metadata": {
    "collapsed": true
   },
   "outputs": [],
   "source": [
    "#Read in the sample submission and copy its formatting into a new dataframe\n",
    "\n",
    "z = zipfile.ZipFile('sampleSubmission.csv.zip')\n",
    "sample = pd.read_csv(z.open('sampleSubmission.csv'))\n",
    "toWrite = pd.DataFrame(0, index=np.arange(len(pred)), columns=sample.columns)"
   ]
  },
  {
   "cell_type": "code",
   "execution_count": 81,
   "metadata": {
    "collapsed": false
   },
   "outputs": [],
   "source": [
    "#Put the predictions in the output dataframe\n",
    "for i in range(len(pred)):\n",
    "    toWrite.ix[i]['Id'] = i\n",
    "    toWrite.ix[i][pred[i]] = 1"
   ]
  },
  {
   "cell_type": "code",
   "execution_count": 85,
   "metadata": {
    "collapsed": false
   },
   "outputs": [],
   "source": [
    "toWrite.to_csv('predictions.csv', index=False)"
   ]
  },
  {
   "cell_type": "code",
   "execution_count": null,
   "metadata": {
    "collapsed": false
   },
   "outputs": [],
   "source": []
  }
 ],
 "metadata": {
  "kernelspec": {
   "display_name": "Python 3",
   "language": "python",
   "name": "python3"
  },
  "language_info": {
   "codemirror_mode": {
    "name": "ipython",
    "version": 3
   },
   "file_extension": ".py",
   "mimetype": "text/x-python",
   "name": "python",
   "nbconvert_exporter": "python",
   "pygments_lexer": "ipython3",
   "version": "3.5.1"
  }
 },
 "nbformat": 4,
 "nbformat_minor": 0
}
